{
 "cells": [
  {
   "cell_type": "markdown",
   "id": "11c425f7",
   "metadata": {},
   "source": [
    "# 🧠 genAI Lab #002: AI-Powered Content Generator\n",
    "\n",
    "**Lab Type:** Project  \n",
    "**Estimated Time:** 60–120 mins  \n",
    "**Skill Level:** Intermediate"
   ]
  },
  {
   "cell_type": "code",
   "execution_count": null,
   "id": "5cdc542a",
   "metadata": {},
   "outputs": [],
   "source": [
    "# Let's begin by printing your name to personalize the notebook\n",
    "your_name = \"\"\n",
    "print(f\"Welcome to the lab, {your_name}!\")"
   ]
  },
  {
   "cell_type": "markdown",
   "id": "f827582b",
   "metadata": {},
   "source": [
    "## 🔍 STAR Method Lab Prompt\n",
    "\n",
    "**Situation:**  \n",
    "[What GenAI opportunity or risk are you addressing?]\n",
    "\n",
    "**Task:**  \n",
    "[What GenAI tool or concept are you demonstrating?]\n",
    "\n",
    "**Action:**  \n",
    "[Describe the tool, prompt, workflow, or experiment used.]\n",
    "\n",
    "**Expected Result:**  \n",
    "[An artifact or insight that shows applied GenAI value or concern.]"
   ]
  },
  {
   "cell_type": "markdown",
   "id": "feff495c",
   "metadata": {},
   "source": [
    "## ✍️ Your Assignment\n",
    "\n",
    "_Use this section to complete your deliverable:_\n",
    "\n",
    "```markdown\n",
    "(Example Format)\n",
    "\n",
    "- **Use Case**: AI newsletter creator  \n",
    "- **Tools Used**: Gemini + Sheets + Zapier (optional)  \n",
    "- **STAR Output**:  \n",
    "   - S: Content creation is time consuming  \n",
    "   - T: Automate blog/newsletter text creation  \n",
    "   - A: Used Gemini + formatted output + mocked automation  \n",
    "   - R: Time savings and quality examples  \n",
    "```"
   ]
  }
 ],
 "metadata": {},
 "nbformat": 4,
 "nbformat_minor": 5
}
